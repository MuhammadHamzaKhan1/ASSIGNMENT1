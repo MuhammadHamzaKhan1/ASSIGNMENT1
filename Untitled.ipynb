{
 "cells": [
  {
   "cell_type": "code",
   "execution_count": 2,
   "metadata": {},
   "outputs": [
    {
     "name": "stdout",
     "output_type": "stream",
     "text": [
      "name:  Muhammad Hamza Khan\n",
      "age:  19\n",
      "university: Sir Syed University\n"
     ]
    }
   ],
   "source": [
    "a=\"Muhammad Hamza Khan\"\n",
    "b=19\n",
    "c=\"Sir Syed University\"\n",
    "print(\"name: \",a)\n",
    "print(\"age: \",b)\n",
    "print(\"university:\",c)\n"
   ]
  }
 ],
 "metadata": {
  "kernelspec": {
   "display_name": "Python 3",
   "language": "python",
   "name": "python3"
  },
  "language_info": {
   "codemirror_mode": {
    "name": "ipython",
    "version": 3
   },
   "file_extension": ".py",
   "mimetype": "text/x-python",
   "name": "python",
   "nbconvert_exporter": "python",
   "pygments_lexer": "ipython3",
   "version": "3.7.4"
  }
 },
 "nbformat": 4,
 "nbformat_minor": 2
}
